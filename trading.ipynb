{
 "cells": [
  {
   "cell_type": "code",
   "execution_count": 24,
   "id": "655423cf",
   "metadata": {},
   "outputs": [],
   "source": [
    "import requests\n",
    "import os\n",
    "\n",
    "API_KEY = os.getenv(\"API_KEY\")\n",
    "\n",
    "SPORT = 'soccer_epl' \n",
    "REGIONS = 'uk' \n",
    "MARKETS = 'h2h' \n",
    "ODDS_FORMAT = 'decimal' \n",
    "DATE_FORMAT = 'iso' \n",
    "BOOKIES = \"williamhill,paddypower,unibet_uk,skybet,marathonbet\"\n"
   ]
  },
  {
   "cell_type": "code",
   "execution_count": 25,
   "id": "c026f8ae",
   "metadata": {},
   "outputs": [
    {
     "name": "stdout",
     "output_type": "stream",
     "text": [
      "Remaining requests 489\n",
      "Used requests 11\n"
     ]
    }
   ],
   "source": [
    "odds_response = requests.get(\n",
    "    f'https://api.the-odds-api.com/v4/sports/{SPORT}/odds',\n",
    "    params={\n",
    "        'api_key': API_KEY,\n",
    "        'regions': REGIONS,\n",
    "        'markets': MARKETS,\n",
    "        'oddsFormat': ODDS_FORMAT,\n",
    "        'dateFormat': DATE_FORMAT,\n",
    "        'bookmakers': BOOKIES\n",
    "    }\n",
    ")\n",
    "\n",
    "if odds_response.status_code != 200:\n",
    "    print(f'Failed to get odds: status_code {odds_response.status_code}, response body {odds_response.text}')\n",
    "\n",
    "else:\n",
    "    odds_json = odds_response.json()\n",
    "\n",
    "    print('Remaining requests', odds_response.headers['x-requests-remaining'])\n",
    "    print('Used requests', odds_response.headers['x-requests-used'])\n"
   ]
  },
  {
   "cell_type": "code",
   "execution_count": 39,
   "id": "a637322f",
   "metadata": {},
   "outputs": [
    {
     "name": "stdout",
     "output_type": "stream",
     "text": [
      "                           event_id         commence_time          home_team  \\\n",
      "0  354123128ddb07b54e61c8f0953029df  2025-10-25T16:30:00Z  Manchester United   \n",
      "1  354123128ddb07b54e61c8f0953029df  2025-10-25T16:30:00Z  Manchester United   \n",
      "2  354123128ddb07b54e61c8f0953029df  2025-10-25T16:30:00Z  Manchester United   \n",
      "3  354123128ddb07b54e61c8f0953029df  2025-10-25T16:30:00Z  Manchester United   \n",
      "4  354123128ddb07b54e61c8f0953029df  2025-10-25T16:30:00Z  Manchester United   \n",
      "\n",
      "                  away_team    bookmaker bookmaker_last_update  \\\n",
      "0  Brighton and Hove Albion  Paddy Power  2025-10-25T17:34:14Z   \n",
      "1  Brighton and Hove Albion  Paddy Power  2025-10-25T17:34:14Z   \n",
      "2  Brighton and Hove Albion  Paddy Power  2025-10-25T17:34:14Z   \n",
      "3  Brighton and Hove Albion  Unibet (UK)  2025-10-25T17:35:01Z   \n",
      "4  Brighton and Hove Albion  Unibet (UK)  2025-10-25T17:35:01Z   \n",
      "\n",
      "               outcome_name  odds_decimal  \n",
      "0  Brighton and Hove Albion          26.0  \n",
      "1         Manchester United           1.1  \n",
      "2                      Draw           9.0  \n",
      "3  Brighton and Hove Albion          29.0  \n",
      "4         Manchester United           1.1  \n"
     ]
    }
   ],
   "source": [
    "import pandas as pd\n",
    "from collections import defaultdict\n",
    "\n",
    "df = pd.json_normalize(\n",
    "    odds_json,\n",
    "    record_path=['bookmakers','markets','outcomes'],\n",
    "    meta=['id','sport_key','sport_title','commence_time','home_team','away_team',\n",
    "            ['bookmakers','title'], ['bookmakers','last_update'],\n",
    "            ['bookmakers','markets','last_update']],\n",
    "    errors='ignore'\n",
    ")\n",
    "\n",
    "df = (df.rename(columns={\n",
    "        'id':'event_id',\n",
    "        'bookmakers.title':'bookmaker',\n",
    "        'bookmakers.last_update':'bookmaker_last_update',\n",
    "        'bookmakers.markets.last_update':'market_last_update',\n",
    "        'name':'outcome_name',\n",
    "        'price':'odds_decimal'\n",
    "    })\n",
    "    [['event_id','commence_time','home_team','away_team',\n",
    "        'bookmaker','bookmaker_last_update',\n",
    "        'outcome_name','odds_decimal']]\n",
    ")\n",
    "\n",
    "print(df.head())\n",
    "# def role_from(outcome, home, away):\n",
    "#     o = str(outcome).strip().casefold()\n",
    "#     if o == str(home).strip().casefold(): return \"home\"\n",
    "#     if o == str(away).strip().casefold(): return \"away\"\n",
    "#     if o == \"draw\": return \"draw\"\n",
    "#     return None\n",
    "\n",
    "# events = defaultdict(dict)\n",
    "# for eid, g in df.groupby(id): \n",
    "#     home = g[\"home_team\"].iat[0]\n",
    "#     away = g[\"away_team\"].iat[0]\n",
    "#     dc = {\n",
    "#         \"commence_time\": g[\"commence_time\"].iat[0],\n",
    "#         \"home_team\": home,\n",
    "#         \"away_team\": away,\n",
    "#     }    \n",
    "#     teams = defaultdict(list)\n",
    "#     draw = False \n",
    "    \n",
    "#     for _, r in g.iterrows():\n",
    "#         role = role_from(r[\"outcome_name\"], home, away)\n",
    "#         if role is None:\n",
    "#             continue\n",
    "#         if role == \"draw\":\n",
    "#             has_draw = True\n",
    "#             legs.setdefault(\"draw\", [])\n",
    "#         legs[role].append({\"odd\": float(r[\"odds_decimal\"]), \"book\": r[\"bookmaker\"]})\n",
    "\n",
    "#     events[eid] = {\"meta\": meta, \"legs\": legs if has_draw else {\"home\": legs[\"home\"], \"away\": legs[\"away\"]}}\n",
    "    \n"
   ]
  }
 ],
 "metadata": {
  "kernelspec": {
   "display_name": "venv (3.13.3)",
   "language": "python",
   "name": "python3"
  },
  "language_info": {
   "codemirror_mode": {
    "name": "ipython",
    "version": 3
   },
   "file_extension": ".py",
   "mimetype": "text/x-python",
   "name": "python",
   "nbconvert_exporter": "python",
   "pygments_lexer": "ipython3",
   "version": "3.13.3"
  }
 },
 "nbformat": 4,
 "nbformat_minor": 5
}
