{
 "cells": [
  {
   "cell_type": "code",
   "execution_count": 72,
   "id": "655423cf",
   "metadata": {},
   "outputs": [],
   "source": [
    "import requests\n",
    "import os\n",
    "\n",
    "API_KEY = os.getenv(\"API_KEY\")\n",
    "\n",
    "SPORT = 'soccer_epl' \n",
    "REGIONS = 'uk' \n",
    "MARKETS = 'h2h' \n",
    "ODDS_FORMAT = 'decimal' \n",
    "DATE_FORMAT = 'iso' \n"
   ]
  },
  {
   "cell_type": "code",
   "execution_count": 73,
   "id": "c026f8ae",
   "metadata": {},
   "outputs": [
    {
     "name": "stdout",
     "output_type": "stream",
     "text": [
      "Remaining requests 475\n",
      "Used requests 25\n"
     ]
    }
   ],
   "source": [
    "odds_response = requests.get(\n",
    "    f'https://api.the-odds-api.com/v4/sports/{SPORT}/odds',\n",
    "    params={\n",
    "        'api_key': API_KEY,\n",
    "        'regions': REGIONS,\n",
    "        'markets': MARKETS,\n",
    "        'oddsFormat': ODDS_FORMAT,\n",
    "        'dateFormat': DATE_FORMAT,\n",
    "    }\n",
    ")\n",
    "\n",
    "if odds_response.status_code != 200:\n",
    "    print(f'Failed to get odds: status_code {odds_response.status_code}, response body {odds_response.text}')\n",
    "\n",
    "else:\n",
    "    odds_json = odds_response.json()\n",
    "\n",
    "    print('Remaining requests', odds_response.headers['x-requests-remaining'])\n",
    "    print('Used requests', odds_response.headers['x-requests-used'])\n"
   ]
  },
  {
   "cell_type": "code",
   "execution_count": 74,
   "id": "d05cf9e2",
   "metadata": {},
   "outputs": [
    {
     "name": "stdout",
     "output_type": "stream",
     "text": [
      "Remaining requests 475\n",
      "Used requests 25\n"
     ]
    }
   ],
   "source": [
    "if odds_response.status_code != 200:\n",
    "    print(f'Failed to get odds: status_code {odds_response.status_code}, response body {odds_response.text}')\n",
    "\n",
    "else:\n",
    "    odds_json = odds_response.json()\n",
    "\n",
    "    print('Remaining requests', odds_response.headers['x-requests-remaining'])\n",
    "    print('Used requests', odds_response.headers['x-requests-used'])\n"
   ]
  },
  {
   "cell_type": "code",
   "execution_count": 75,
   "id": "a637322f",
   "metadata": {},
   "outputs": [
    {
     "name": "stdout",
     "output_type": "stream",
     "text": [
      "                             event_id         commence_time   home_team  \\\n",
      "908  65d0fd91ca519ad5fcc3bca2ecc34b2e  2025-11-03T20:00:00Z  Sunderland   \n",
      "909  65d0fd91ca519ad5fcc3bca2ecc34b2e  2025-11-03T20:00:00Z  Sunderland   \n",
      "910  65d0fd91ca519ad5fcc3bca2ecc34b2e  2025-11-03T20:00:00Z  Sunderland   \n",
      "911  65d0fd91ca519ad5fcc3bca2ecc34b2e  2025-11-03T20:00:00Z  Sunderland   \n",
      "912  65d0fd91ca519ad5fcc3bca2ecc34b2e  2025-11-03T20:00:00Z  Sunderland   \n",
      "913  65d0fd91ca519ad5fcc3bca2ecc34b2e  2025-11-03T20:00:00Z  Sunderland   \n",
      "914  65d0fd91ca519ad5fcc3bca2ecc34b2e  2025-11-03T20:00:00Z  Sunderland   \n",
      "915  65d0fd91ca519ad5fcc3bca2ecc34b2e  2025-11-03T20:00:00Z  Sunderland   \n",
      "916  65d0fd91ca519ad5fcc3bca2ecc34b2e  2025-11-03T20:00:00Z  Sunderland   \n",
      "917  65d0fd91ca519ad5fcc3bca2ecc34b2e  2025-11-03T20:00:00Z  Sunderland   \n",
      "\n",
      "    away_team      bookmaker bookmaker_last_update outcome_name  odds_decimal  \n",
      "908   Everton    Unibet (UK)  2025-10-25T20:28:31Z         Draw          3.10  \n",
      "909   Everton  LiveScore Bet  2025-10-25T20:28:30Z      Everton          2.28  \n",
      "910   Everton  LiveScore Bet  2025-10-25T20:28:30Z   Sunderland          3.00  \n",
      "911   Everton  LiveScore Bet  2025-10-25T20:28:30Z         Draw          3.00  \n",
      "912   Everton         Casumo  2025-10-25T20:28:31Z      Everton          2.40  \n",
      "913   Everton         Casumo  2025-10-25T20:28:31Z   Sunderland          3.15  \n",
      "914   Everton         Casumo  2025-10-25T20:28:31Z         Draw          3.15  \n",
      "915   Everton     Bet Victor  2025-10-25T20:24:26Z      Everton          2.40  \n",
      "916   Everton     Bet Victor  2025-10-25T20:24:26Z   Sunderland          3.00  \n",
      "917   Everton     Bet Victor  2025-10-25T20:24:26Z         Draw          3.12  \n"
     ]
    }
   ],
   "source": [
    "import pandas as pd\n",
    "from collections import defaultdict\n",
    "\n",
    "df = pd.json_normalize(\n",
    "    odds_json,\n",
    "    record_path=['bookmakers','markets','outcomes'],\n",
    "    meta=['id','sport_key','sport_title','commence_time','home_team','away_team',\n",
    "            ['bookmakers','title'], ['bookmakers','last_update'],\n",
    "            ['bookmakers','markets','last_update']],\n",
    "    errors='ignore'\n",
    ")\n",
    "\n",
    "df = (df.rename(columns={\n",
    "        'id':'event_id',\n",
    "        'bookmakers.title':'bookmaker',\n",
    "        'bookmakers.last_update':'bookmaker_last_update',\n",
    "        'bookmakers.markets.last_update':'market_last_update',\n",
    "        'name':'outcome_name',\n",
    "        'price':'odds_decimal'\n",
    "    })\n",
    "    [['event_id','commence_time','home_team','away_team',\n",
    "        'bookmaker','bookmaker_last_update',\n",
    "        'outcome_name','odds_decimal']]\n",
    ")\n",
    "\n",
    "print(df.tail(10))\n"
   ]
  },
  {
   "cell_type": "code",
   "execution_count": 76,
   "id": "3fd67bb9",
   "metadata": {},
   "outputs": [],
   "source": [
    "#{(home_team, away_team): {outcome: [(odds, bookmaker), ...]}}\n",
    "odds_by_match = {}\n",
    "\n",
    "for _, row in df.iterrows():\n",
    "    match_key = (row['home_team'], row['away_team'])\n",
    "    outcome = row['outcome_name']\n",
    "    odds = row['odds_decimal']\n",
    "    bookmaker = row['bookmaker']\n",
    "    \n",
    "    if match_key not in odds_by_match:\n",
    "        odds_by_match[match_key] = {}\n",
    "    \n",
    "    if outcome not in odds_by_match[match_key]:\n",
    "        odds_by_match[match_key][outcome] = []\n",
    "    \n",
    "    odds_by_match[match_key][outcome].append((odds, bookmaker))\n"
   ]
  },
  {
   "cell_type": "code",
   "execution_count": 78,
   "id": "da4dc16f",
   "metadata": {},
   "outputs": [
    {
     "name": "stdout",
     "output_type": "stream",
     "text": [
      "[{'combination': {'Brentford': (1.95, 'Bet Victor'),\n",
      "                  'Draw': (6.8, 'Betfair'),\n",
      "                  'Liverpool': (20.0, 'Matchbook')},\n",
      "  'h_val': 0.7098793363499247,\n",
      "  'match': 'Brentford vs Liverpool',\n",
      "  'profit_margin_%': 40.869010942313786},\n",
      " {'combination': {'Brighton and Hove Albion': (2.06, 'Matchbook'),\n",
      "                  'Draw': (4.1, 'Betfair'),\n",
      "                  'Leeds United': (5.1, 'Smarkets')},\n",
      "  'h_val': 0.9254177636008227,\n",
      "  'match': 'Brighton and Hove Albion vs Leeds United',\n",
      "  'profit_margin_%': 8.059304600873007},\n",
      " {'combination': {'Arsenal': (1.43, 'Matchbook'),\n",
      "                  'Burnley': (12.5, 'Smarkets'),\n",
      "                  'Draw': (6.2, 'Betfair')},\n",
      "  'h_val': 0.9405910218813445,\n",
      "  'match': 'Burnley vs Arsenal',\n",
      "  'profit_margin_%': 6.316132807628483}]\n"
     ]
    }
   ],
   "source": [
    "import pprint\n",
    "\n",
    "# accounts for slippage, ect\n",
    "epsilon = 0.05\n",
    "\n",
    "def calc_arbitrage(odds1, odds2, odds3):\n",
    "    return (1/(odds1)) + (1/(odds2)) + (1/(odds3))\n",
    "\n",
    "def find_arbritrage(odds_by_match):\n",
    "    oppourtunities = []\n",
    "    for match_key, outcomes in odds_by_match.items():\n",
    "\n",
    "        if len(outcomes) != 3:\n",
    "            continue\n",
    "\n",
    "        best_h_val = 1 - epsilon\n",
    "        current_best = None\n",
    "    \n",
    "        outcome1, outcome2, outcome3 = outcomes.keys()\n",
    "\n",
    "        for odds1, bookie1 in outcomes[outcome1]:\n",
    "            for odds2, bookie2 in outcomes[outcome2]:\n",
    "                for odds3, bookie3 in outcomes[outcome3]:\n",
    "\n",
    "                    if len({bookie1, bookie2, bookie3}) == 3:\n",
    "                        h_val = calc_arbitrage(odds1, odds2, odds3)\n",
    "                        if h_val < best_h_val:\n",
    "                            best_h_val = h_val\n",
    "                            current_best = {\n",
    "                                outcome1: (odds1, bookie1),\n",
    "                                outcome2: (odds2, bookie2),\n",
    "                                outcome3: (odds3, bookie3)\n",
    "                            }\n",
    "\n",
    "        if current_best:\n",
    "            profit_margin = ((1/best_h_val)-1)*100\n",
    "            oppourtunities.append({\n",
    "                'match': f\"{match_key[0]} vs {match_key[1]}\",\n",
    "                'h_val': best_h_val,\n",
    "                'profit_margin_%': profit_margin,\n",
    "                'combination': current_best\n",
    "            })\n",
    "    \n",
    "    return sorted(oppourtunities, key = lambda x : x[\"h_val\"])\n",
    "    \n",
    "arb_opps = find_arbritrage(odds_by_match)\n",
    "pprint.pprint(arb_opps)\n"
   ]
  }
 ],
 "metadata": {
  "kernelspec": {
   "display_name": "venv (3.13.3)",
   "language": "python",
   "name": "python3"
  },
  "language_info": {
   "codemirror_mode": {
    "name": "ipython",
    "version": 3
   },
   "file_extension": ".py",
   "mimetype": "text/x-python",
   "name": "python",
   "nbconvert_exporter": "python",
   "pygments_lexer": "ipython3",
   "version": "3.13.3"
  }
 },
 "nbformat": 4,
 "nbformat_minor": 5
}
